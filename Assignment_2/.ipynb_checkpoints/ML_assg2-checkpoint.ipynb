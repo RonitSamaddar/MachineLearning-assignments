{
 "cells": [
  {
   "cell_type": "code",
   "execution_count": 44,
   "metadata": {},
   "outputs": [],
   "source": [
    "import pandas as pd\n",
    "import numpy as np"
   ]
  },
  {
   "cell_type": "code",
   "execution_count": 45,
   "metadata": {},
   "outputs": [
    {
     "name": "stdout",
     "output_type": "stream",
     "text": [
      "  D,X1,X2,X3,X4,X5,X6\n",
      "0       0,3,3,3,4,2,4\n",
      "1       0,3,2,3,5,4,3\n",
      "2       1,5,3,3,3,3,5\n",
      "3       0,5,4,3,3,3,5\n",
      "4       0,5,4,3,3,3,5\n",
      "5       1,5,5,3,5,5,5\n",
      "6       0,3,1,2,2,1,3\n",
      "7       1,5,4,4,4,4,5\n",
      "8       0,4,1,4,4,4,4\n",
      "9       0,4,4,4,2,5,5\n"
     ]
    }
   ],
   "source": [
    "DataFrame=pd.read_csv(\"data2_19.csv\")\n",
    "print(DataFrame.head(10))"
   ]
  },
  {
   "cell_type": "code",
   "execution_count": 46,
   "metadata": {},
   "outputs": [],
   "source": [
    "def restoreCSV(inputfile,outputfile):\n",
    "    DataFrame=pd.read_csv(inputfile)\n",
    "    cols=DataFrame.columns.values\n",
    "    cols_new=cols[0].split(',')\n",
    "    #print(cols_new)\n",
    "    data=DataFrame.values\n",
    "    data_new=np.zeros((data.shape[0],len(cols_new)),int)\n",
    "    #print(data_new.shape)\n",
    "    for i in range(0,data.shape[0]):\n",
    "        lst=[int(values) for values in data[i][0].split(',')]\n",
    "        data_new[i]=np.array(lst)\n",
    "    #print(data_new)\n",
    "    DataFrame_new=pd.DataFrame(data_new,columns=cols_new)\n",
    "    DataFrame_new.to_csv(outputfile,index=False)"
   ]
  },
  {
   "cell_type": "code",
   "execution_count": 47,
   "metadata": {},
   "outputs": [],
   "source": [
    "restoreCSV(\"data2_19.csv\",\"data.csv\")\n",
    "restoreCSV(\"test2_19.csv\",\"test.csv\")"
   ]
  },
  {
   "cell_type": "code",
   "execution_count": 48,
   "metadata": {},
   "outputs": [],
   "source": [
    "df_train=pd.read_csv(\"data.csv\")\n",
    "df_test=pd.read_csv(\"test.csv\")\n",
    "\n",
    "cols=df_train.columns.values\n",
    "#print(cols)\n",
    "c={}\n",
    "for i in range(0,len(cols)):\n",
    "    #print(i)\n",
    "    c[cols[i]]=i\n",
    "#print(c)\n"
   ]
  },
  {
   "cell_type": "code",
   "execution_count": 49,
   "metadata": {},
   "outputs": [],
   "source": [
    "def get_frame_size(dataframe,class_name,class_value,attr_name=\"\",attr_value=-1):\n",
    "    d=dataframe.loc[dataframe[class_name]==class_value]\n",
    "    if(attr_name!=\"\"):\n",
    "        d2=d.loc[d[attr_name]==attr_value]\n",
    "        d=d2\n",
    "    return len(d)"
   ]
  },
  {
   "cell_type": "code",
   "execution_count": 50,
   "metadata": {},
   "outputs": [
    {
     "data": {
      "text/plain": [
       "[0, 1]"
      ]
     },
     "execution_count": 50,
     "metadata": {},
     "output_type": "execute_result"
    }
   ],
   "source": [
    "list(df_train['D'].unique())"
   ]
  },
  {
   "cell_type": "code",
   "execution_count": 51,
   "metadata": {},
   "outputs": [],
   "source": [
    "#D=df_train.loc[df_train['D']==1 & df_train['X1']==3]\n",
    "def predict(cols,data,dataframe):\n",
    "    num_class=len(df_train[cols[0]].unique())\n",
    "    num_rows=len(dataframe)\n",
    "    #print(num_class)\n",
    "    max_value=-1\n",
    "    max_class=''\n",
    "    for c in list(df_train[cols[0]].unique()):\n",
    "        n_c=get_frame_size(dataframe,cols[0],c)\n",
    "        p_ac=1\n",
    "        for i in range(1,len(cols)):        \n",
    "            cname=cols[i]\n",
    "            cvalue=data[i]\n",
    "            n_ic=get_frame_size(dataframe,cols[0],c,cname,cvalue)\n",
    "            #print(\"Number of classes = \"+)\n",
    "            p=(n_ic+1)*1.0/(n_c+num_class)\n",
    "            #p=(n_ic)*1.0/(n_c)\n",
    "            p_ac=p_ac*p\n",
    "        p_ac=p_ac*(n_c*1.0/num_rows)\n",
    "        if(p_ac>max_value):\n",
    "            max_value=p_ac\n",
    "            max_class=c\n",
    "    return max_class\n",
    "        \n",
    "            \n",
    "#predict(cols,df_test.iloc[],df_test)"
   ]
  },
  {
   "cell_type": "code",
   "execution_count": 52,
   "metadata": {},
   "outputs": [
    {
     "name": "stdout",
     "output_type": "stream",
     "text": [
      "0 0\n",
      "0 0\n",
      "1 1\n",
      "0 1\n",
      "0 1\n",
      "1 1\n",
      "0 0\n",
      "1 1\n",
      "0 1\n",
      "0 1\n",
      "0 0\n",
      "0 0\n",
      "1 1\n",
      "0 0\n",
      "0 0\n",
      "1 1\n",
      "0 1\n",
      "1 1\n",
      "0 1\n",
      "0 1\n",
      "1 0\n",
      "1 0\n",
      "0 1\n",
      "0 1\n",
      "1 1\n",
      "1 0\n",
      "0 0\n",
      "1 1\n",
      "1 0\n",
      "1 0\n",
      "1 0\n",
      "0 0\n",
      "0 0\n",
      "0 0\n",
      "1 1\n",
      "1 1\n",
      "1 0\n",
      "0 0\n",
      "1 1\n",
      "1 1\n",
      "1 1\n",
      "1 0\n",
      "0 0\n",
      "0 0\n",
      "1 1\n",
      "0 1\n",
      "0 0\n",
      "1 0\n",
      "1 1\n",
      "1 1\n",
      "0 0\n",
      "1 1\n",
      "1 1\n",
      "1 1\n",
      "1 1\n",
      "1 1\n",
      "1 1\n",
      "1 0\n",
      "1 0\n",
      "0 1\n",
      "0 0\n",
      "1 1\n",
      "1 1\n",
      "1 0\n",
      "0 0\n",
      "1 1\n",
      "1 1\n",
      "0 1\n",
      "1 0\n",
      "1 0\n",
      "0 0\n",
      "0 0\n",
      "1 1\n",
      "1 1\n",
      "1 1\n",
      "1 0\n",
      "0 0\n",
      "0 0\n",
      "1 0\n",
      "0 1\n",
      "0 0\n",
      "1 1\n",
      "0 0\n",
      "0 0\n",
      "1 1\n",
      "0 1\n",
      "1 1\n",
      "1 1\n",
      "0 0\n",
      "1 1\n",
      "1 1\n",
      "0 1\n",
      "1 1\n",
      "1 1\n",
      "0 0\n",
      "1 1\n",
      "0 1\n",
      "0 0\n",
      "0 1\n",
      "1 1\n",
      "1 1\n",
      "1 1\n",
      "1 1\n",
      "1 1\n",
      "0 0\n",
      "1 1\n",
      "0 0\n",
      "1 1\n",
      "1 0\n",
      "0 0\n",
      "1 1\n",
      "1 1\n",
      "0 0\n",
      "1 1\n",
      "0 1\n",
      "1 1\n",
      "0 0\n",
      "0 0\n",
      "1 1\n",
      "0 0\n",
      "1 1\n",
      "0 1\n",
      "0 1\n",
      "1 1\n",
      "1 1\n",
      "0 1\n",
      "0 1\n",
      "0 0\n",
      "0 0\n",
      "Accuracy on train data set= 69.76744186046511\n"
     ]
    }
   ],
   "source": [
    "count1=0\n",
    "count2=0\n",
    "for i in range(0,len(df_train)):\n",
    "    c1=df_train.iloc[i][0]\n",
    "    c2=predict(cols,df_train.iloc[i],df_train)\n",
    "    print(c1,c2)\n",
    "    if(c1==c2):\n",
    "        count1+=1\n",
    "    count2+=1\n",
    "print(\"Accuracy on train data set= \"+str((count1*100.0)/count2))"
   ]
  },
  {
   "cell_type": "code",
   "execution_count": 54,
   "metadata": {},
   "outputs": [
    {
     "name": "stdout",
     "output_type": "stream",
     "text": [
      "0 1\n",
      "0 1\n",
      "0 1\n",
      "1 0\n",
      "1 1\n",
      "1 0\n",
      "1 1\n",
      "0 0\n",
      "1 0\n",
      "0 1\n",
      "1 1\n",
      "1 1\n",
      "0 1\n",
      "0 1\n",
      "Accuracy on test data set= 35.714285714285715\n"
     ]
    }
   ],
   "source": [
    "count1=0\n",
    "count2=0\n",
    "for i in range(0,len(df_test)):\n",
    "    c1=df_test.iloc[i][0]\n",
    "    c2=predict(cols,df_test.iloc[i],df_train)\n",
    "    print(c1,c2)\n",
    "    if(c1==c2):\n",
    "        count1+=1\n",
    "    count2+=1\n",
    "print(\"Accuracy on test data set= \"+str((count1*100.0)/count2))"
   ]
  },
  {
   "cell_type": "code",
   "execution_count": null,
   "metadata": {},
   "outputs": [],
   "source": []
  },
  {
   "cell_type": "code",
   "execution_count": null,
   "metadata": {},
   "outputs": [],
   "source": []
  }
 ],
 "metadata": {
  "kernelspec": {
   "display_name": "Python 3",
   "language": "python",
   "name": "python3"
  },
  "language_info": {
   "codemirror_mode": {
    "name": "ipython",
    "version": 3
   },
   "file_extension": ".py",
   "mimetype": "text/x-python",
   "name": "python",
   "nbconvert_exporter": "python",
   "pygments_lexer": "ipython3",
   "version": "3.5.2"
  }
 },
 "nbformat": 4,
 "nbformat_minor": 2
}
