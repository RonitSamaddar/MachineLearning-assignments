{
 "cells": [
  {
   "cell_type": "code",
   "execution_count": 12,
   "metadata": {},
   "outputs": [],
   "source": [
    "import sys\n",
    "import numpy as np\n",
    "import matplotlib.pyplot as plt\n",
    "import pandas as pd"
   ]
  },
  {
   "cell_type": "code",
   "execution_count": 13,
   "metadata": {},
   "outputs": [
    {
     "name": "stdout",
     "output_type": "stream",
     "text": [
      "   Sepal Length  Sepal Width  Petal Length  Petal Width      Species\n",
      "0           5.1          3.5           1.4          0.2  Iris-setosa\n",
      "1           4.9          3.0           1.4          0.2  Iris-setosa\n",
      "2           4.7          3.2           1.3          0.2  Iris-setosa\n",
      "3           4.6          3.1           1.5          0.2  Iris-setosa\n",
      "4           5.0          3.6           1.4          0.2  Iris-setosa\n",
      "5           5.4          3.9           1.7          0.4  Iris-setosa\n",
      "6           4.6          3.4           1.4          0.3  Iris-setosa\n",
      "7           5.0          3.4           1.5          0.2  Iris-setosa\n",
      "8           4.4          2.9           1.4          0.2  Iris-setosa\n",
      "9           4.9          3.1           1.5          0.1  Iris-setosa\n"
     ]
    }
   ],
   "source": [
    "df=pd.read_csv(\"data4_19.csv\",names=[\"Sepal Length\",\"Sepal Width\",\"Petal Length\",\"Petal Width\",\"Species\"])\n",
    "print(df.head(10))"
   ]
  },
  {
   "cell_type": "code",
   "execution_count": 14,
   "metadata": {},
   "outputs": [
    {
     "name": "stdout",
     "output_type": "stream",
     "text": [
      "Number of rows = 150\n",
      "Number of columns = 5\n"
     ]
    }
   ],
   "source": [
    "num_rows=len(df.index)\n",
    "num_cols=len(df.columns)\n",
    "print(\"Number of rows = \"+str(num_rows))\n",
    "print(\"Number of columns = \"+str(num_cols))\n",
    "num_attr=num_cols-1"
   ]
  },
  {
   "cell_type": "code",
   "execution_count": 15,
   "metadata": {},
   "outputs": [
    {
     "data": {
      "text/plain": [
       "1.4142135623730951"
      ]
     },
     "execution_count": 15,
     "metadata": {},
     "output_type": "execute_result"
    }
   ],
   "source": [
    "def dist(l1,l2,n):\n",
    "    s=0\n",
    "    for i in range(0,n):\n",
    "        s=s+(l1[i]-l2[i])**2\n",
    "    s=s**0.5\n",
    "    return s\n",
    "dist([1,0],[0,1],2)"
   ]
  },
  {
   "cell_type": "code",
   "execution_count": 16,
   "metadata": {},
   "outputs": [
    {
     "name": "stdout",
     "output_type": "stream",
     "text": [
      "     Sepal Length  Sepal Width  Petal Length  Petal Width          Species\n",
      "15            5.7          4.4           1.5          0.4      Iris-setosa\n",
      "147           6.5          3.0           5.2          2.0   Iris-virginica\n",
      "97            6.2          2.9           4.3          1.3  Iris-versicolor\n",
      "[[5.7 4.4 1.5 0.4]\n",
      " [6.5 3.0 5.2 2.0]\n",
      " [6.2 2.9 4.3 1.3]]\n",
      "[[0, 1, 2, 3, 4, 5, 6, 7, 8, 9, 10, 11, 12, 13, 14, 15, 16, 17, 18, 19, 20, 21, 22, 23, 24, 25, 26, 27, 28, 29, 30, 31, 32, 33, 34, 35, 36, 37, 38, 39, 40, 41, 42, 43, 44, 45, 46, 47, 48, 49], [50, 52, 70, 77, 83, 100, 101, 102, 103, 104, 105, 107, 108, 109, 110, 111, 112, 113, 114, 115, 116, 117, 118, 120, 121, 122, 123, 124, 125, 126, 127, 128, 129, 130, 131, 132, 133, 134, 135, 136, 137, 138, 139, 140, 141, 142, 143, 144, 145, 146, 147, 148, 149], [51, 53, 54, 55, 56, 57, 58, 59, 60, 61, 62, 63, 64, 65, 66, 67, 68, 69, 71, 72, 73, 74, 75, 76, 78, 79, 80, 81, 82, 84, 85, 86, 87, 88, 89, 90, 91, 92, 93, 94, 95, 96, 97, 98, 99, 106, 119]]\n",
      "[[5.005999999999999 3.4180000000000006 1.464 0.2439999999999999]\n",
      " [6.62264150943396 3.0037735849056597 5.520754716981131\n",
      "  2.0018867924528303]\n",
      " [5.855319148936169 2.723404255319149 4.212765957446808\n",
      "  1.3085106382978724]]\n"
     ]
    }
   ],
   "source": [
    "num_clusters=3\n",
    "centres_df=df.sample(num_clusters)\n",
    "print(centres_df)\n",
    "centres1=pd.DataFrame.to_numpy(centres_df)\n",
    "centres=centres1[:,0:num_attr]\n",
    "print(centres)\n",
    "\n",
    "cluster_rows=[]\n",
    "for i in range(0,num_clusters):\n",
    "    cluster_rows.append([])\n",
    "for i in range(0,num_rows):\n",
    "    l1=list(df.iloc[i])\n",
    "    #print(l1)\n",
    "    min_dist=-1\n",
    "    min_cluster=-1\n",
    "    #print(str(i)+\"\\t\",end=\"\")\n",
    "    for j in range(0,num_clusters):\n",
    "        l2=list(centres[j])\n",
    "        d=dist(l1,l2,num_attr)\n",
    "        #print(str(d)+\"\\t\",end=\"\")\n",
    "        if(min_dist==-1):\n",
    "            min_dist=d\n",
    "            min_cluster=j\n",
    "        else:\n",
    "            if(d<min_dist):\n",
    "                min_dist=d\n",
    "                min_cluster=j\n",
    "    #print(\"\\n\")\n",
    "    cluster_rows[min_cluster].append(i)\n",
    "print(cluster_rows)\n",
    "clusters=[]\n",
    "for c in range(0,num_clusters):\n",
    "    dfx=df.iloc[cluster_rows[c]]\n",
    "    npx=pd.DataFrame.to_numpy(dfx)\n",
    "    clusters.append(npx[:,0:num_attr])\n",
    "#print(clusters)\n",
    "for c in range(0,num_clusters):\n",
    "    centres[c]=np.sum(clusters[c],axis=0)/clusters[c].shape[0]\n",
    "print(centres)"
   ]
  },
  {
   "cell_type": "code",
   "execution_count": 23,
   "metadata": {},
   "outputs": [],
   "source": [
    "def Jdist(list1,list2):\n",
    "    set1=set(list1)\n",
    "    set2=set(list2)\n",
    "    setU=set1.union(set2)\n",
    "    setI=set1.intersection(set2)\n",
    "    Jindex=len(setI)*1.0/len(setU)\n",
    "    Jdist=1-Jindex\n",
    "    return Jdist"
   ]
  },
  {
   "cell_type": "code",
   "execution_count": 24,
   "metadata": {},
   "outputs": [
    {
     "name": "stdout",
     "output_type": "stream",
     "text": [
      "[[51, 53, 54, 55, 56, 57, 58, 59, 60, 61, 62, 63, 64, 65, 66, 67, 68, 69, 70, 71, 72, 73, 74, 75, 76, 78, 79, 80, 81, 82, 83, 84, 85, 86, 87, 88, 89, 90, 91, 92, 93, 94, 95, 96, 97, 98, 99, 101, 106, 113, 114, 119, 121, 123, 126, 127, 133, 138, 142, 146, 149], [50, 52, 77, 100, 102, 103, 104, 105, 107, 108, 109, 110, 111, 112, 115, 116, 117, 118, 120, 122, 124, 125, 128, 129, 130, 131, 132, 134, 135, 136, 137, 139, 140, 141, 143, 144, 145, 147, 148], [0, 1, 2, 3, 4, 5, 6, 7, 8, 9, 10, 11, 12, 13, 14, 15, 16, 17, 18, 19, 20, 21, 22, 23, 24, 25, 26, 27, 28, 29, 30, 31, 32, 33, 34, 35, 36, 37, 38, 39, 40, 41, 42, 43, 44, 45, 46, 47, 48, 49]]\n",
      "******************************************************************\n",
      "[[0, 1, 2, 3, 4, 5, 6, 7, 8, 9, 10, 11, 12, 13, 14, 15, 16, 17, 18, 19, 20, 21, 22, 23, 24, 25, 26, 27, 28, 29, 30, 31, 32, 33, 34, 35, 36, 37, 38, 39, 40, 41, 42, 43, 44, 45, 46, 47, 48, 49], [50, 51, 52, 53, 54, 55, 56, 57, 58, 59, 60, 61, 62, 63, 64, 65, 66, 67, 68, 69, 70, 71, 72, 73, 74, 75, 76, 77, 78, 79, 80, 81, 82, 83, 84, 85, 86, 87, 88, 89, 90, 91, 92, 93, 94, 95, 96, 97, 98, 99], [100, 101, 102, 103, 104, 105, 106, 107, 108, 109, 110, 111, 112, 113, 114, 115, 116, 117, 118, 119, 120, 121, 122, 123, 124, 125, 126, 127, 128, 129, 130, 131, 132, 133, 134, 135, 136, 137, 138, 139, 140, 141, 142, 143, 144, 145, 146, 147, 148, 149]]\n",
      "Jacquard distance for class(ground truth) vs Cluster\n",
      "Distance between Cluster0 and Class Iris-setosa is = 1.0\n",
      "Distance between Cluster0 and Class Iris-versicolor is = 0.265625\n",
      "Distance between Cluster0 and Class Iris-virginica is = 0.8556701030927836\n",
      "Distance between Cluster1 and Class Iris-setosa is = 1.0\n",
      "Distance between Cluster1 and Class Iris-versicolor is = 0.9651162790697675\n",
      "Distance between Cluster1 and Class Iris-virginica is = 0.3207547169811321\n",
      "Distance between Cluster2 and Class Iris-setosa is = 0.0\n",
      "Distance between Cluster2 and Class Iris-versicolor is = 1.0\n",
      "Distance between Cluster2 and Class Iris-virginica is = 1.0\n"
     ]
    }
   ],
   "source": [
    "def main():\n",
    "    df=pd.read_csv(\"data4_19.csv\",names=[\"Sepal Length\",\"Sepal Width\",\"Petal Length\",\"Petal Width\",\"Species\"])\n",
    "    #print(df.head(10))\n",
    "    \n",
    "    num_rows=len(df.index)\n",
    "    num_cols=len(df.columns)\n",
    "    #print(\"Number of rows = \"+str(num_rows))\n",
    "    #print(\"Number of columns = \"+str(num_cols))\n",
    "    num_attr=num_cols-1\n",
    "    \n",
    "    MAX_ITER=10\n",
    "    K=3\n",
    "    \n",
    "    #TAKING RANDOM INITIAL CENTRES    \n",
    "    centres_df=df.sample(num_clusters)\n",
    "    #print(centres_df)\n",
    "    centres1=pd.DataFrame.to_numpy(centres_df)\n",
    "    centres=centres1[:,0:num_attr]\n",
    "    #print(centres)\n",
    "    for i in range(0,MAX_ITER):\n",
    "        cluster_rows=[]\n",
    "        for i in range(0,num_clusters):\n",
    "            cluster_rows.append([])\n",
    "        \n",
    "        #FINDING WHICH ROWS ARE CLOSER TO WHICH CLUSTER\n",
    "        for i in range(0,num_rows):\n",
    "            l1=list(df.iloc[i])\n",
    "            #print(l1)\n",
    "            min_dist=-1\n",
    "            min_cluster=-1\n",
    "            #print(str(i)+\"\\t\",end=\"\")\n",
    "            for j in range(0,num_clusters):\n",
    "                l2=list(centres[j])\n",
    "                d=dist(l1,l2,num_attr)\n",
    "                #print(str(d)+\"\\t\",end=\"\")\n",
    "                if(min_dist==-1):\n",
    "                    min_dist=d\n",
    "                    min_cluster=j\n",
    "                else:\n",
    "                    if(d<min_dist):\n",
    "                        min_dist=d\n",
    "                        min_cluster=j\n",
    "            #print(\"\\n\")\n",
    "            cluster_rows[min_cluster].append(i)\n",
    "        #print(cluster_rows)\n",
    "        \n",
    "        \n",
    "        #FORMING DIFFERENT NUMPY ARRAYS FOR ROWS OF DIFFERENT CLUSTER\n",
    "        clusters=[]\n",
    "        for c in range(0,num_clusters):\n",
    "            dfx=df.iloc[cluster_rows[c]]\n",
    "            npx=pd.DataFrame.to_numpy(dfx)\n",
    "            clusters.append(npx[:,0:num_attr])\n",
    "        #print(clusters)\n",
    "        \n",
    "        #RECOMPUTING CENTRES\n",
    "        for c in range(0,num_clusters):\n",
    "            centres[c]=np.sum(clusters[c],axis=0)/clusters[c].shape[0]\n",
    "    \n",
    "    print(cluster_rows)\n",
    "    \n",
    "    #FORMING LIST OF LISTS FOR WHICH ROWS BELONG TO WHICH GROUND TRUTH LABEL\n",
    "    class_col=df.columns[-1]\n",
    "    un=pd.unique(df[class_col])#Storing the different ground truth labels\n",
    "    class_rows=[]\n",
    "    for i in range(0,len(un)):\n",
    "        C=un[i]\n",
    "        rows=list(df[df[class_col]==C].index)\n",
    "        class_rows.append(rows)\n",
    "    print(\"******************************************************************\")\n",
    "    print(class_rows)\n",
    "    \n",
    "    print(\"Jacquard distance for class(ground truth) vs Cluster\")\n",
    "    for i in range(0,len(cluster_rows)):\n",
    "        for j in range(0,len(class_rows)):\n",
    "            \n",
    "            print(\"Distance between Cluster\" +str(i)+\" and Class \"+un[j]+\" is = \"+str(Jdist(cluster_rows[i],class_rows[j])))\n",
    "            \n",
    "    \n",
    "    \n",
    "        \n",
    "    \n",
    "    \n",
    "    \n",
    "    \n",
    "    \n",
    "    \n",
    "if __name__==\"__main__\":\n",
    "    main()"
   ]
  },
  {
   "cell_type": "code",
   "execution_count": null,
   "metadata": {},
   "outputs": [],
   "source": []
  },
  {
   "cell_type": "code",
   "execution_count": null,
   "metadata": {},
   "outputs": [],
   "source": []
  }
 ],
 "metadata": {
  "kernelspec": {
   "display_name": "Python 3",
   "language": "python",
   "name": "python3"
  },
  "language_info": {
   "codemirror_mode": {
    "name": "ipython",
    "version": 3
   },
   "file_extension": ".py",
   "mimetype": "text/x-python",
   "name": "python",
   "nbconvert_exporter": "python",
   "pygments_lexer": "ipython3",
   "version": "3.5.2"
  }
 },
 "nbformat": 4,
 "nbformat_minor": 4
}
